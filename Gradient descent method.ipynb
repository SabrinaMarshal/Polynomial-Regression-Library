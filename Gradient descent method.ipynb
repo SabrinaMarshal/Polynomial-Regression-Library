{
 "cells": [
  {
   "cell_type": "code",
   "execution_count": 17,
   "id": "a3573342",
   "metadata": {},
   "outputs": [],
   "source": [
    "import numpy as np\n",
    "import pandas as pd\n",
    "import math\n",
    "from sklearn.preprocessing import StandardScaler"
   ]
  },
  {
   "cell_type": "code",
   "execution_count": 69,
   "id": "56942a04",
   "metadata": {},
   "outputs": [],
   "source": [
    "def grad_eqn(df,deg):\n",
    "    for i in range(len(deg)):\n",
    "        dpow=np.power(df.iloc[:,i],deg[i])\n",
    "        df.iloc[:,i]=dpow\n",
    "    nc=len(df.columns)-1\n",
    "    l=len(df.iloc[:,1])\n",
    "    D=df.iloc[:,0:nc].to_numpy()\n",
    "    sc=StandardScaler()\n",
    "    D=sc.fit_transform(D)\n",
    "    D=np.insert(D,0,1,axis=1)\n",
    "    y= df.iloc[:,nc].to_numpy()\n",
    "    w=np.zeros(nc+1)\n",
    "\n",
    "    alpha=0.01\n",
    "    epochs=45\n",
    "    for e in range(epochs):\n",
    "        j=0\n",
    "        i=0\n",
    "        hy=np.zeros(l)\n",
    "        for i in range(l):\n",
    "            while(j<=nc):\n",
    "                hy[i]+=w[j]*D[i,j]\n",
    "                j+=1   \n",
    "            j=0\n",
    "\n",
    "        w_temp=np.zeros(nc+1)\n",
    "        k=0\n",
    "        for k in range(nc+1):\n",
    "            m=0\n",
    "            for m in range(l):\n",
    "                w_temp[k]=w_temp[k]+(hy[m]-y[m])*D[m,k]\n",
    "            w[k]=w[k]-alpha*(1/l)*(w_temp[k])\n",
    "        \n",
    "    gx=w[0]\n",
    "    for z in range(nc):\n",
    "        gx+=w[z+1]*df.iloc[:,z]\n",
    "        z=z+1\n",
    "    \n",
    "    return w,gx"
   ]
  },
  {
   "cell_type": "code",
   "execution_count": 466,
   "id": "813295ef",
   "metadata": {},
   "outputs": [
    {
     "data": {
      "text/html": [
       "<div>\n",
       "<style scoped>\n",
       "    .dataframe tbody tr th:only-of-type {\n",
       "        vertical-align: middle;\n",
       "    }\n",
       "\n",
       "    .dataframe tbody tr th {\n",
       "        vertical-align: top;\n",
       "    }\n",
       "\n",
       "    .dataframe thead th {\n",
       "        text-align: right;\n",
       "    }\n",
       "</style>\n",
       "<table border=\"1\" class=\"dataframe\">\n",
       "  <thead>\n",
       "    <tr style=\"text-align: right;\">\n",
       "      <th></th>\n",
       "      <th>CRIM</th>\n",
       "      <th>ZN</th>\n",
       "      <th>INDUS</th>\n",
       "      <th>CHAS</th>\n",
       "      <th>NOX</th>\n",
       "      <th>RM</th>\n",
       "      <th>AGE</th>\n",
       "      <th>DIS</th>\n",
       "      <th>RAD</th>\n",
       "      <th>TAX</th>\n",
       "      <th>PTRATIO</th>\n",
       "      <th>B</th>\n",
       "      <th>LSTAT</th>\n",
       "      <th>MEDV</th>\n",
       "    </tr>\n",
       "  </thead>\n",
       "  <tbody>\n",
       "    <tr>\n",
       "      <th>0</th>\n",
       "      <td>0.00632</td>\n",
       "      <td>18.0</td>\n",
       "      <td>2.31</td>\n",
       "      <td>0</td>\n",
       "      <td>0.538</td>\n",
       "      <td>6.575</td>\n",
       "      <td>65.2</td>\n",
       "      <td>4.0900</td>\n",
       "      <td>1</td>\n",
       "      <td>296.0</td>\n",
       "      <td>15.3</td>\n",
       "      <td>396.90</td>\n",
       "      <td>4.98</td>\n",
       "      <td>24.0</td>\n",
       "    </tr>\n",
       "    <tr>\n",
       "      <th>1</th>\n",
       "      <td>0.02731</td>\n",
       "      <td>0.0</td>\n",
       "      <td>7.07</td>\n",
       "      <td>0</td>\n",
       "      <td>0.469</td>\n",
       "      <td>6.421</td>\n",
       "      <td>78.9</td>\n",
       "      <td>4.9671</td>\n",
       "      <td>2</td>\n",
       "      <td>242.0</td>\n",
       "      <td>17.8</td>\n",
       "      <td>396.90</td>\n",
       "      <td>9.14</td>\n",
       "      <td>21.6</td>\n",
       "    </tr>\n",
       "    <tr>\n",
       "      <th>2</th>\n",
       "      <td>0.02729</td>\n",
       "      <td>0.0</td>\n",
       "      <td>7.07</td>\n",
       "      <td>0</td>\n",
       "      <td>0.469</td>\n",
       "      <td>7.185</td>\n",
       "      <td>61.1</td>\n",
       "      <td>4.9671</td>\n",
       "      <td>2</td>\n",
       "      <td>242.0</td>\n",
       "      <td>17.8</td>\n",
       "      <td>392.83</td>\n",
       "      <td>4.03</td>\n",
       "      <td>34.7</td>\n",
       "    </tr>\n",
       "    <tr>\n",
       "      <th>3</th>\n",
       "      <td>0.03237</td>\n",
       "      <td>0.0</td>\n",
       "      <td>2.18</td>\n",
       "      <td>0</td>\n",
       "      <td>0.458</td>\n",
       "      <td>6.998</td>\n",
       "      <td>45.8</td>\n",
       "      <td>6.0622</td>\n",
       "      <td>3</td>\n",
       "      <td>222.0</td>\n",
       "      <td>18.7</td>\n",
       "      <td>394.63</td>\n",
       "      <td>2.94</td>\n",
       "      <td>33.4</td>\n",
       "    </tr>\n",
       "    <tr>\n",
       "      <th>4</th>\n",
       "      <td>0.06905</td>\n",
       "      <td>0.0</td>\n",
       "      <td>2.18</td>\n",
       "      <td>0</td>\n",
       "      <td>0.458</td>\n",
       "      <td>7.147</td>\n",
       "      <td>54.2</td>\n",
       "      <td>6.0622</td>\n",
       "      <td>3</td>\n",
       "      <td>222.0</td>\n",
       "      <td>18.7</td>\n",
       "      <td>396.90</td>\n",
       "      <td>5.33</td>\n",
       "      <td>36.2</td>\n",
       "    </tr>\n",
       "  </tbody>\n",
       "</table>\n",
       "</div>"
      ],
      "text/plain": [
       "      CRIM    ZN  INDUS  CHAS    NOX     RM   AGE     DIS  RAD    TAX  \\\n",
       "0  0.00632  18.0   2.31     0  0.538  6.575  65.2  4.0900    1  296.0   \n",
       "1  0.02731   0.0   7.07     0  0.469  6.421  78.9  4.9671    2  242.0   \n",
       "2  0.02729   0.0   7.07     0  0.469  7.185  61.1  4.9671    2  242.0   \n",
       "3  0.03237   0.0   2.18     0  0.458  6.998  45.8  6.0622    3  222.0   \n",
       "4  0.06905   0.0   2.18     0  0.458  7.147  54.2  6.0622    3  222.0   \n",
       "\n",
       "   PTRATIO       B  LSTAT  MEDV  \n",
       "0     15.3  396.90   4.98  24.0  \n",
       "1     17.8  396.90   9.14  21.6  \n",
       "2     17.8  392.83   4.03  34.7  \n",
       "3     18.7  394.63   2.94  33.4  \n",
       "4     18.7  396.90   5.33  36.2  "
      ]
     },
     "execution_count": 466,
     "metadata": {},
     "output_type": "execute_result"
    }
   ],
   "source": [
    "df=pd.read_csv(\"boston.csv\")\n",
    "df.head()"
   ]
  },
  {
   "cell_type": "markdown",
   "id": "e6e7ca0b",
   "metadata": {},
   "source": [
    "Hypothesis: $w_{0}$+$w_{1}$$x_{1}^{1}$+$w_{2}$$x_{2}^{2}$+$w_{3}$$x_{3}^{0.5}$+$w_{4}$$x_{4}^{3}$+$w_{5}$$x_{5}^{1}$+$w_{6}$$x_{6}^{4}$+$w_{7}$$x_{7}^{2.6}$+$w_{8}$$x_{8}^{5}$+$w_{9}$$x_{9}^{4.1}$+$w_{10}$$x_{10}^{3}$+$w_{11}$$x_{11}^{3}$+$w_{12}$$x_{12}^{1}$+$w_{13}$$x_{13}^{2.2}$"
   ]
  },
  {
   "cell_type": "code",
   "execution_count": 467,
   "id": "45a72a75",
   "metadata": {},
   "outputs": [],
   "source": [
    "deg=[0.6,0.2,0.3,5,0.8,2.2,0.4,0.1,0.6,1,0.8,1,0.4]\n",
    "w,gx=grad_eqn(df,deg)"
   ]
  },
  {
   "cell_type": "code",
   "execution_count": 72,
   "id": "0e779f72",
   "metadata": {},
   "outputs": [
    {
     "data": {
      "text/plain": [
       "array([ 8.19776198, -0.55034077,  0.43590964, -0.5929666 ,  0.51280408,\n",
       "       -0.47003668,  1.76242426, -0.36105657, -0.09673793, -0.30325195,\n",
       "       -0.58922519, -1.0216122 ,  0.52751783, -1.7217972 ])"
      ]
     },
     "execution_count": 72,
     "metadata": {},
     "output_type": "execute_result"
    }
   ],
   "source": [
    "w"
   ]
  },
  {
   "cell_type": "code",
   "execution_count": 220,
   "id": "9db8b3ec",
   "metadata": {},
   "outputs": [
    {
     "data": {
      "text/plain": [
       "0      2167.366280\n",
       "1      2154.906297\n",
       "2      2131.890555\n",
       "3      2155.245841\n",
       "4      2169.064890\n",
       "          ...     \n",
       "501    2111.106535\n",
       "502    2146.404159\n",
       "503    2143.211992\n",
       "504    2116.434721\n",
       "505    2145.222065\n",
       "Name: CRIM, Length: 506, dtype: float64"
      ]
     },
     "execution_count": 220,
     "metadata": {},
     "output_type": "execute_result"
    }
   ],
   "source": [
    "gx"
   ]
  },
  {
   "cell_type": "code",
   "execution_count": 469,
   "id": "8a251ab8",
   "metadata": {},
   "outputs": [
    {
     "name": "stdout",
     "output_type": "stream",
     "text": [
      "Mean Squared Error: 16911.557050806165\n"
     ]
    }
   ],
   "source": [
    "from sklearn import metrics\n",
    "print('Mean Squared Error:', metrics.mean_squared_error(df.iloc[:,13],gx))"
   ]
  },
  {
   "cell_type": "code",
   "execution_count": null,
   "id": "a8f91f5c",
   "metadata": {},
   "outputs": [],
   "source": []
  },
  {
   "cell_type": "code",
   "execution_count": null,
   "id": "bd3f70f9",
   "metadata": {},
   "outputs": [],
   "source": []
  },
  {
   "cell_type": "code",
   "execution_count": null,
   "id": "f792a1ee",
   "metadata": {},
   "outputs": [],
   "source": []
  },
  {
   "cell_type": "code",
   "execution_count": null,
   "id": "9454aaee",
   "metadata": {},
   "outputs": [],
   "source": []
  }
 ],
 "metadata": {
  "kernelspec": {
   "display_name": "Python 3 (ipykernel)",
   "language": "python",
   "name": "python3"
  },
  "language_info": {
   "codemirror_mode": {
    "name": "ipython",
    "version": 3
   },
   "file_extension": ".py",
   "mimetype": "text/x-python",
   "name": "python",
   "nbconvert_exporter": "python",
   "pygments_lexer": "ipython3",
   "version": "3.8.8"
  }
 },
 "nbformat": 4,
 "nbformat_minor": 5
}
